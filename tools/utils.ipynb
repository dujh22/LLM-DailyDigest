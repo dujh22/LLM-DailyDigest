{
 "cells": [
  {
   "cell_type": "markdown",
   "id": "6a906c02",
   "metadata": {},
   "source": [
    "# 有两个csv文件file1和file2，希望在file1中‘Paper ID’列对应的值在file2中不保留"
   ]
  },
  {
   "cell_type": "code",
   "execution_count": null,
   "id": "acc48aca",
   "metadata": {},
   "outputs": [],
   "source": [
    "import pandas as pd\n",
    "\n",
    "id_col = \"Paper ID\"\n",
    "file1 = \"arxiv_papers_logical reasoning & large language model.csv\"\n",
    "file2 = \"arxiv_papers_logical reason.csv\"\n",
    "out   = \"file2_filtered.csv\"\n",
    "\n",
    "# 读入并标准化ID（转字符串+去首尾空格）\n",
    "df1 = pd.read_csv(file1, usecols=[id_col], dtype={id_col: str})\n",
    "ids = set(df1[id_col].astype(str).str.strip())\n",
    "\n",
    "df2 = pd.read_csv(file2, dtype=str)\n",
    "df2[id_col] = df2[id_col].astype(str).str.strip()\n",
    "\n",
    "# 反选择：只保留不在file1中的\n",
    "df2_filtered = df2[~df2[id_col].isin(ids)]\n",
    "df2_filtered.to_csv(out, index=False)\n"
   ]
  },
  {
   "cell_type": "markdown",
   "id": "ab13bc56",
   "metadata": {},
   "source": [
    "# 有一个csv文件file1，希望在file1中‘Paper ID’列对应的值，如果相同的只保留一行"
   ]
  },
  {
   "cell_type": "code",
   "execution_count": 1,
   "id": "6c3f2ef7",
   "metadata": {},
   "outputs": [],
   "source": [
    "import pandas as pd\n",
    "\n",
    "in_file  = \"arxiv_papers_puzzle.csv\"\n",
    "out_file = \"arxiv_papers_puzzle_dedup.csv\"\n",
    "id_col   = \"Paper ID\"\n",
    "\n",
    "df = pd.read_csv(in_file, dtype=str)\n",
    "\n",
    "# 规范化键（可选：去空格、大小写不敏感、把缺失当作同一键）\n",
    "key = df[id_col].fillna(\"\").astype(str).str.strip().str.lower()\n",
    "\n",
    "dedup = df[~key.duplicated(keep=\"first\")]\n",
    "dedup.to_csv(out_file, index=False)"
   ]
  }
 ],
 "metadata": {
  "kernelspec": {
   "display_name": "base",
   "language": "python",
   "name": "python3"
  },
  "language_info": {
   "codemirror_mode": {
    "name": "ipython",
    "version": 3
   },
   "file_extension": ".py",
   "mimetype": "text/x-python",
   "name": "python",
   "nbconvert_exporter": "python",
   "pygments_lexer": "ipython3",
   "version": "3.9.21"
  }
 },
 "nbformat": 4,
 "nbformat_minor": 5
}
